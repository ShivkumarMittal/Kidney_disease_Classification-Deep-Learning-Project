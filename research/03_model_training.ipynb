{
 "cells": [
  {
   "cell_type": "code",
   "execution_count": 1,
   "metadata": {},
   "outputs": [],
   "source": [
    "import os"
   ]
  },
  {
   "cell_type": "code",
   "execution_count": 2,
   "metadata": {},
   "outputs": [
    {
     "data": {
      "text/plain": [
       "'d:\\\\Projects\\\\Kidney_disease_Classification-Deep-Learning-Project\\\\research'"
      ]
     },
     "execution_count": 2,
     "metadata": {},
     "output_type": "execute_result"
    }
   ],
   "source": [
    "%pwd"
   ]
  },
  {
   "cell_type": "code",
   "execution_count": 3,
   "metadata": {},
   "outputs": [],
   "source": [
    "os.chdir(\"../\")"
   ]
  },
  {
   "cell_type": "code",
   "execution_count": 4,
   "metadata": {},
   "outputs": [
    {
     "data": {
      "text/plain": [
       "'d:\\\\Projects\\\\Kidney_disease_Classification-Deep-Learning-Project'"
      ]
     },
     "execution_count": 4,
     "metadata": {},
     "output_type": "execute_result"
    }
   ],
   "source": [
    "%pwd"
   ]
  },
  {
   "cell_type": "code",
   "execution_count": 5,
   "metadata": {},
   "outputs": [],
   "source": [
    "from dataclasses import dataclass\n",
    "from pathlib import Path\n",
    "\n",
    "@dataclass(frozen=True)\n",
    "class TrainingConfig:\n",
    "    root_dir: Path\n",
    "    trained_model_path: Path\n",
    "    updated_base_model_path: Path\n",
    "    training_data: Path\n",
    "    params_epochs: int\n",
    "    params_batch_size: int\n",
    "    params_is_augmentation: bool\n",
    "    params_image_size: list"
   ]
  },
  {
   "cell_type": "code",
   "execution_count": 6,
   "metadata": {},
   "outputs": [],
   "source": [
    "from cnnClassifier.constants import *\n",
    "from cnnClassifier.utils.common import read_yaml,create_directories\n",
    "import tensorflow as tf"
   ]
  },
  {
   "cell_type": "code",
   "execution_count": 7,
   "metadata": {},
   "outputs": [],
   "source": [
    "class TrainingConfigurationManager:\n",
    "    def __init__(\n",
    "        self,\n",
    "        config_filepath = CONFIG_FILE_PATH,\n",
    "        params_filepath = PARAMS_FILE_PATH):\n",
    "\n",
    "        self.config = read_yaml(config_filepath)\n",
    "        self.params = read_yaml(params_filepath)\n",
    "\n",
    "        create_directories([self.config.artifacts_root])\n",
    "\n",
    "    def get_training_config(self)->TrainingConfig:\n",
    "        training = self.config.training\n",
    "        prepare_base_model = self.config.prepare_base_model\n",
    "        params = self.params\n",
    "        training_data = os.path.join(self.config.data_ingestion.unzip_dir,\"kidney-ct-scan-image\")\n",
    "        create_directories([\n",
    "            Path(training.root_dir)\n",
    "        ])\n",
    "\n",
    "        training_config = TrainingConfig(\n",
    "            root_dir = Path(training.root_dir),\n",
    "            trained_model_path=Path(training.trained_model_path),\n",
    "            updated_base_model_path=Path(prepare_base_model.updated_base_model_path),\n",
    "            training_data=Path(training_data),\n",
    "            params_epochs=params.EPOCHS,\n",
    "            params_batch_size=params.BATCH_SIZE,\n",
    "            params_is_augmentation=params.AUGMENTATION,\n",
    "            params_image_size=params.IMAGE_SIZE\n",
    "        )\n",
    "\n",
    "        return training_config\n",
    "\n"
   ]
  },
  {
   "cell_type": "code",
   "execution_count": 8,
   "metadata": {},
   "outputs": [],
   "source": [
    "import os\n",
    "import urllib.request as request\n",
    "from zipfile import ZipFile\n",
    "import tensorflow as tf\n",
    "import time"
   ]
  },
  {
   "cell_type": "code",
   "execution_count": 9,
   "metadata": {},
   "outputs": [],
   "source": [
    "class Training:\n",
    "    def __init__(self, config: TrainingConfig):\n",
    "        self.config = config\n",
    "\n",
    "    \n",
    "    def get_base_model(self):\n",
    "        self.model = tf.keras.models.load_model(\n",
    "            self.config.updated_base_model_path\n",
    "        )\n",
    "\n",
    "    def train_valid_generator(self):\n",
    "\n",
    "        datagenerator_kwargs = dict(\n",
    "            rescale = 1./255,\n",
    "            validation_split=0.20\n",
    "        )\n",
    "\n",
    "        dataflow_kwargs = dict(\n",
    "            target_size=self.config.params_image_size[:-1],\n",
    "            batch_size=self.config.params_batch_size,\n",
    "            interpolation=\"bilinear\"\n",
    "        )\n",
    "\n",
    "        valid_datagenerator = tf.keras.preprocessing.image.ImageDataGenerator(\n",
    "            **datagenerator_kwargs\n",
    "        )\n",
    "\n",
    "        self.valid_generator = valid_datagenerator.flow_from_directory(\n",
    "            directory=self.config.training_data,\n",
    "            subset=\"validation\",\n",
    "            shuffle=False,\n",
    "            **dataflow_kwargs\n",
    "        )\n",
    "\n",
    "        if self.config.params_is_augmentation:\n",
    "            train_datagenerator = tf.keras.preprocessing.image.ImageDataGenerator(\n",
    "                rotation_range=40,\n",
    "                horizontal_flip=True,\n",
    "                width_shift_range=0.2,\n",
    "                height_shift_range=0.2,\n",
    "                shear_range=0.2,\n",
    "                zoom_range=0.2,\n",
    "                **datagenerator_kwargs\n",
    "            )\n",
    "        else:\n",
    "            train_datagenerator = valid_datagenerator\n",
    "\n",
    "        self.train_generator = train_datagenerator.flow_from_directory(\n",
    "            directory=self.config.training_data,\n",
    "            subset=\"training\",\n",
    "            shuffle=True,\n",
    "            **dataflow_kwargs\n",
    "        )\n",
    "\n",
    "    \n",
    "    @staticmethod\n",
    "    def save_model(path: Path, model: tf.keras.Model):\n",
    "        model.save(path)\n",
    "\n",
    "\n",
    "\n",
    "    \n",
    "    def train(self):\n",
    "        self.steps_per_epoch = self.train_generator.samples   // self.train_generator.batch_size\n",
    "        self.validation_steps = self.valid_generator.samples   // self.valid_generator.batch_size\n",
    "\n",
    "        self.model.fit(\n",
    "            self.train_generator,\n",
    "            epochs=self.config.params_epochs,\n",
    "            steps_per_epoch=self.steps_per_epoch,\n",
    "            validation_steps=self.validation_steps,\n",
    "            validation_data=self.valid_generator\n",
    "        )\n",
    "\n",
    "        self.save_model(\n",
    "            path=self.config.trained_model_path,\n",
    "            model=self.model\n",
    "        )"
   ]
  },
  {
   "cell_type": "code",
   "execution_count": 10,
   "metadata": {},
   "outputs": [
    {
     "name": "stdout",
     "output_type": "stream",
     "text": [
      "[2023-10-16 09:15:14,841: INFO: common: {'artifacts_root': 'artifacts', 'data_ingestion': {'root_dir': 'artifacts/data_ingestion', 'source_URL': 'https://drive.google.com/file/d/1vlhZ5c7abUKF8xXERIw6m9Te8fW7ohw3/view?usp=sharing', 'local_data_file': 'artifacts/data_ingestion/data.zip', 'unzip_dir': 'artifacts/data_ingestion'}, 'prepare_base_model': {'root_dir': 'artifacts/prepare_base_model', 'base_model_path': 'artifacts/prepare_base_model/base_model.h5', 'updated_base_model_path': 'artifacts/prepare_base_model/base_model_updated.h5'}, 'training': {'root_dir': 'artifacts/training', 'trained_model_path': 'artifacts/training/model.h5'}}]\n",
      "[2023-10-16 09:15:14,844: INFO: common: yaml file: config\\config.yaml loaded successfully]\n",
      "[2023-10-16 09:15:14,858: INFO: common: {'AUGMENTATION': True, 'IMAGE_SIZE': [224, 224, 3], 'BATCH_SIZE': 16, 'INCLUDE_TOP': False, 'EPOCHS': 25, 'CLASSES': 2, 'WEIGHTS': 'imagenet', 'LEARNING_RATE': 0.01}]\n",
      "[2023-10-16 09:15:14,860: INFO: common: yaml file: params.yaml loaded successfully]\n",
      "[2023-10-16 09:15:14,862: INFO: common: created directory at: artifacts]\n",
      "[2023-10-16 09:15:14,864: INFO: common: created directory at: artifacts\\training]\n",
      "Found 93 images belonging to 2 classes.\n",
      "Found 372 images belonging to 2 classes.\n",
      "Epoch 1/25\n",
      "23/23 [==============================] - 102s 4s/step - loss: 13.0254 - accuracy: 0.5225 - val_loss: 6.8015 - val_accuracy: 0.6000\n",
      "Epoch 2/25\n",
      "23/23 [==============================] - 98s 4s/step - loss: 5.6791 - accuracy: 0.7584 - val_loss: 36.0243 - val_accuracy: 0.4000\n",
      "Epoch 3/25\n",
      "23/23 [==============================] - 98s 4s/step - loss: 5.5809 - accuracy: 0.7247 - val_loss: 3.5601 - val_accuracy: 0.4375\n",
      "Epoch 4/25\n",
      "23/23 [==============================] - 97s 4s/step - loss: 4.0024 - accuracy: 0.7584 - val_loss: 0.5962 - val_accuracy: 0.9000\n",
      "Epoch 5/25\n",
      "23/23 [==============================] - 99s 4s/step - loss: 3.2413 - accuracy: 0.7809 - val_loss: 0.8922 - val_accuracy: 0.8250\n",
      "Epoch 6/25\n",
      "23/23 [==============================] - 100s 4s/step - loss: 2.3863 - accuracy: 0.8146 - val_loss: 6.3500 - val_accuracy: 0.4750\n",
      "Epoch 7/25\n",
      "23/23 [==============================] - 98s 4s/step - loss: 1.9488 - accuracy: 0.8371 - val_loss: 0.3208 - val_accuracy: 0.9625\n",
      "Epoch 8/25\n",
      "23/23 [==============================] - 98s 4s/step - loss: 1.6230 - accuracy: 0.8483 - val_loss: 0.3648 - val_accuracy: 0.9625\n",
      "Epoch 9/25\n",
      "23/23 [==============================] - 100s 4s/step - loss: 2.0149 - accuracy: 0.8287 - val_loss: 3.5119 - val_accuracy: 0.5000\n",
      "Epoch 10/25\n",
      "23/23 [==============================] - 102s 4s/step - loss: 1.3492 - accuracy: 0.8505 - val_loss: 0.0322 - val_accuracy: 0.9750\n",
      "Epoch 11/25\n",
      "23/23 [==============================] - 100s 4s/step - loss: 1.2897 - accuracy: 0.8708 - val_loss: 0.0025 - val_accuracy: 1.0000\n",
      "Epoch 12/25\n",
      "23/23 [==============================] - 104s 5s/step - loss: 0.4818 - accuracy: 0.9270 - val_loss: 0.0013 - val_accuracy: 1.0000\n",
      "Epoch 13/25\n",
      "23/23 [==============================] - 100s 4s/step - loss: 0.2123 - accuracy: 0.9438 - val_loss: 9.0142e-04 - val_accuracy: 1.0000\n",
      "Epoch 14/25\n",
      "23/23 [==============================] - 99s 4s/step - loss: 0.3735 - accuracy: 0.9298 - val_loss: 0.0194 - val_accuracy: 1.0000\n",
      "Epoch 15/25\n",
      "23/23 [==============================] - 99s 4s/step - loss: 0.1778 - accuracy: 0.9494 - val_loss: 0.0142 - val_accuracy: 1.0000\n",
      "Epoch 16/25\n",
      "23/23 [==============================] - 102s 4s/step - loss: 1.0692 - accuracy: 0.8961 - val_loss: 0.0058 - val_accuracy: 1.0000\n",
      "Epoch 17/25\n",
      "23/23 [==============================] - 105s 5s/step - loss: 0.2664 - accuracy: 0.9326 - val_loss: 0.0078 - val_accuracy: 1.0000\n",
      "Epoch 18/25\n",
      "23/23 [==============================] - 104s 5s/step - loss: 0.3838 - accuracy: 0.9130 - val_loss: 2.7161e-05 - val_accuracy: 1.0000\n",
      "Epoch 19/25\n",
      "23/23 [==============================] - 103s 4s/step - loss: 0.1971 - accuracy: 0.9701 - val_loss: 1.8608e-04 - val_accuracy: 1.0000\n",
      "Epoch 20/25\n",
      "23/23 [==============================] - 100s 4s/step - loss: 0.1309 - accuracy: 0.9607 - val_loss: 0.0013 - val_accuracy: 1.0000\n",
      "Epoch 21/25\n",
      "23/23 [==============================] - 97s 4s/step - loss: 0.0694 - accuracy: 0.9831 - val_loss: 1.0800e-05 - val_accuracy: 1.0000\n",
      "Epoch 22/25\n",
      "23/23 [==============================] - 96s 4s/step - loss: 0.1932 - accuracy: 0.9579 - val_loss: 1.7139e-05 - val_accuracy: 1.0000\n",
      "Epoch 23/25\n",
      "23/23 [==============================] - 95s 4s/step - loss: 0.0284 - accuracy: 0.9860 - val_loss: 0.0982 - val_accuracy: 0.9500\n",
      "Epoch 24/25\n",
      "23/23 [==============================] - 95s 4s/step - loss: 0.1231 - accuracy: 0.9747 - val_loss: 3.5246e-05 - val_accuracy: 1.0000\n",
      "Epoch 25/25\n",
      "23/23 [==============================] - 96s 4s/step - loss: 0.0317 - accuracy: 0.9888 - val_loss: 6.3625e-06 - val_accuracy: 1.0000\n"
     ]
    }
   ],
   "source": [
    "try:\n",
    "    config = TrainingConfigurationManager()\n",
    "    training_config = config.get_training_config()\n",
    "    training = Training(config=training_config)\n",
    "    training.get_base_model()\n",
    "    training.train_valid_generator()\n",
    "    training.train()\n",
    "    \n",
    "except Exception as e:\n",
    "    raise e"
   ]
  }
 ],
 "metadata": {
  "kernelspec": {
   "display_name": "kidney",
   "language": "python",
   "name": "python3"
  },
  "language_info": {
   "codemirror_mode": {
    "name": "ipython",
    "version": 3
   },
   "file_extension": ".py",
   "mimetype": "text/x-python",
   "name": "python",
   "nbconvert_exporter": "python",
   "pygments_lexer": "ipython3",
   "version": "3.8.18"
  }
 },
 "nbformat": 4,
 "nbformat_minor": 2
}
