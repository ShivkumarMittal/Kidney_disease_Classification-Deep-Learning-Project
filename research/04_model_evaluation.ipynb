{
 "cells": [
  {
   "cell_type": "code",
   "execution_count": null,
   "metadata": {},
   "outputs": [],
   "source": [
    "import os"
   ]
  },
  {
   "cell_type": "code",
   "execution_count": null,
   "metadata": {},
   "outputs": [],
   "source": [
    "%pwd"
   ]
  },
  {
   "cell_type": "code",
   "execution_count": null,
   "metadata": {},
   "outputs": [],
   "source": [
    "os.chdir(\"../\")"
   ]
  },
  {
   "cell_type": "code",
   "execution_count": null,
   "metadata": {},
   "outputs": [],
   "source": [
    "%pwd"
   ]
  },
  {
   "cell_type": "code",
   "execution_count": null,
   "metadata": {},
   "outputs": [],
   "source": [
    "os.environ[\"MLFLOW_TRACKING_URI\"]=\"https://dagshub.com/ShivkumarMittal/Kidney_disease_Classification-Deep-Learning-Project.mlflow \"\n",
    "os.environ[\"MLFLOW_TRACKING_USERNAME\"]=\"ShivkumarMittal\"\n",
    "os.environ[\"MLFLOW_TRACKING_PASSWORD\"]=\"a439269488be779443c7327709c153f963ea42b2\""
   ]
  },
  {
   "cell_type": "code",
   "execution_count": null,
   "metadata": {},
   "outputs": [],
   "source": [
    "MLFLOW_TRACKING_URI=https://dagshub.com/ShivkumarMittal/Kidney_disease_Classification-Deep-Learning-Project.mlflow \\\n",
    "MLFLOW_TRACKING_USERNAME=ShivkumarMittal \\\n",
    "MLFLOW_TRACKING_PASSWORD=a439269488be779443c7327709c153f963ea42b2 \\\n",
    "python script.py"
   ]
  }
 ],
 "metadata": {
  "language_info": {
   "name": "python"
  }
 },
 "nbformat": 4,
 "nbformat_minor": 2
}
